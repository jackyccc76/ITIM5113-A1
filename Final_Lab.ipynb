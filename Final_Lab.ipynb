{
 "cells": [
  {
   "cell_type": "markdown",
   "metadata": {
    "deletable": false,
    "editable": false,
    "trusted": true
   },
   "source": [
    "# Section 1: Importing and Summarizing Data\n",
    "\n",
    "You can type Python code in the code cells following the instruction cells to solve the exercises. \n",
    "\n",
    "You can also use the IPython Shell interactively. Go to View (on the menubar) and click terminal or press `Ctrl` + ` to open the terminal. Once terminal is open, type py and hit Enter. This will launch interactive python cell. You can write python statements and hit Enter to see the output in the next line in the cell."
   ]
  },
  {
   "cell_type": "markdown",
   "metadata": {},
   "source": [
    "## Exercise 1: Read and explore your data\n",
    "\n",
    "In this lab, you'll explore a dataset containing information on a university's recent graduates for each department stored in `\"recent_grads.csv\"` file. In this exercise, you'll read in this data using Python's `pandas` module.\n",
    "### Instructions\n",
    "\n",
    "- Import `pandas` as `pd`.\n",
    "- Read in the data from `recent_grads_url` (which is a CSV file) and assign it to a variable called `recent_grads`.\n",
    "- Print the shape of `recent_grads`.\n"
   ]
  },
  {
   "cell_type": "code",
   "execution_count": 31,
   "metadata": {},
   "outputs": [
    {
     "name": "stdout",
     "output_type": "stream",
     "text": [
      "     rank  major_code                                      major  \\\n",
      "0       1        2419                      PETROLEUM ENGINEERING   \n",
      "1       2        2416             MINING AND MINERAL ENGINEERING   \n",
      "2       3        2415                  METALLURGICAL ENGINEERING   \n",
      "3       4        2417  NAVAL ARCHITECTURE AND MARINE ENGINEERING   \n",
      "4       5        2405                       CHEMICAL ENGINEERING   \n",
      "..    ...         ...                                        ...   \n",
      "168   169        3609                                    ZOOLOGY   \n",
      "169   170        5201                     EDUCATIONAL PSYCHOLOGY   \n",
      "170   171        5202                        CLINICAL PSYCHOLOGY   \n",
      "171   172        5203                      COUNSELING PSYCHOLOGY   \n",
      "172   173        3501                            LIBRARY SCIENCE   \n",
      "\n",
      "               major_category  total  sample_size    men  women  sharewomen  \\\n",
      "0                 Engineering   2339           36   2057    282    0.120564   \n",
      "1                 Engineering    756            7    679     77    0.101852   \n",
      "2                 Engineering    856            3    725    131    0.153037   \n",
      "3                 Engineering   1258           16   1123    135    0.107313   \n",
      "4                 Engineering  32260          289  21239  11021    0.341631   \n",
      "..                        ...    ...          ...    ...    ...         ...   \n",
      "168    Biology & Life Science   8409           47   3050   5359    0.637293   \n",
      "169  Psychology & Social Work   2854            7    522   2332    0.817099   \n",
      "170  Psychology & Social Work   2838           13    568   2270    0.799859   \n",
      "171  Psychology & Social Work   4626           21    931   3695    0.798746   \n",
      "172                 Education   1098            2    134    964    0.877960   \n",
      "\n",
      "     employed  ...  part_time  full_time_year_round  unemployed  \\\n",
      "0        1976  ...        270                  1207          37   \n",
      "1         640  ...        170                   388          85   \n",
      "2         648  ...        133                   340          16   \n",
      "3         758  ...        150                   692          40   \n",
      "4       25694  ...       5180                 16697        1672   \n",
      "..        ...  ...        ...                   ...         ...   \n",
      "168      6259  ...       2190                  3602         304   \n",
      "169      2125  ...        572                  1211         148   \n",
      "170      2101  ...        648                  1293         368   \n",
      "171      3777  ...        965                  2738         214   \n",
      "172       742  ...        237                   410          87   \n",
      "\n",
      "     unemployment_rate  median  p25th   p75th college_jobs  non_college_jobs  \\\n",
      "0             0.018381  110000  95000  125000         1534               364   \n",
      "1             0.117241   75000  55000   90000          350               257   \n",
      "2             0.024096   73000  50000  105000          456               176   \n",
      "3             0.050125   70000  43000   80000          529               102   \n",
      "4             0.061098   65000  50000   75000        18314              4440   \n",
      "..                 ...     ...    ...     ...          ...               ...   \n",
      "168           0.046320   26000  20000   39000         2771              2947   \n",
      "169           0.065112   25000  24000   34000         1488               615   \n",
      "170           0.149048   25000  25000   40000          986               870   \n",
      "171           0.053621   23400  19200   26000         2403              1245   \n",
      "172           0.104946   22000  20000   22000          288               338   \n",
      "\n",
      "     low_wage_jobs  \n",
      "0              193  \n",
      "1               50  \n",
      "2                0  \n",
      "3                0  \n",
      "4              972  \n",
      "..             ...  \n",
      "168            743  \n",
      "169             82  \n",
      "170            622  \n",
      "171            308  \n",
      "172            192  \n",
      "\n",
      "[173 rows x 21 columns]\n"
     ]
    }
   ],
   "source": [
    "# Import pandas \n",
    "import pandas as pd\n",
    "\n",
    "# Use pandas to read in recent_grads.csv\n",
    "recent_grads = pd.read_csv('recent_grads.csv')\n",
    "\n",
    "# Print the shape\n",
    "print(recent_grads)"
   ]
  },
  {
   "cell_type": "markdown",
   "metadata": {},
   "source": [
    "## Exercise 2: Exploring Your Data\n",
    "\n",
    "Now you'll perform some data exploration using the Python `pandas` module. To get a sense of the data, you'll output statistics such as mean, median, count, and percentiles.\n",
    "\n",
    "The DataFrame `recent_grads` is still in your workspace.\n",
    "### Instructions\n",
    "\n",
    "- Print the `.dtypes` of your data so that you know what each column contains.\n",
    "- Output basic summary statistics using a single `pandas` function.\n",
    "- With the same function from before, summary statistics for all columns that aren't of type `object`.\n",
    "\n"
   ]
  },
  {
   "cell_type": "code",
   "execution_count": 32,
   "metadata": {},
   "outputs": [
    {
     "name": "stdout",
     "output_type": "stream",
     "text": [
      "rank                      int64\n",
      "major_code                int64\n",
      "major                    object\n",
      "major_category           object\n",
      "total                     int64\n",
      "sample_size               int64\n",
      "men                       int64\n",
      "women                     int64\n",
      "sharewomen              float64\n",
      "employed                  int64\n",
      "full_time                 int64\n",
      "part_time                 int64\n",
      "full_time_year_round      int64\n",
      "unemployed                int64\n",
      "unemployment_rate       float64\n",
      "median                   object\n",
      "p25th                    object\n",
      "p75th                    object\n",
      "college_jobs              int64\n",
      "non_college_jobs          int64\n",
      "low_wage_jobs             int64\n",
      "dtype: object\n",
      "             rank   major_code          total  sample_size            men  \\\n",
      "count  173.000000   173.000000     173.000000   173.000000     173.000000   \n",
      "mean    87.000000  3879.815029   39167.716763   356.080925   16637.358382   \n",
      "std     50.084928  1687.753140   63354.613919   618.361022   28063.394844   \n",
      "min      1.000000  1100.000000     124.000000     2.000000     119.000000   \n",
      "25%     44.000000  2403.000000    4361.000000    39.000000    2110.000000   \n",
      "50%     87.000000  3608.000000   15058.000000   130.000000    5347.000000   \n",
      "75%    130.000000  5503.000000   38844.000000   338.000000   14440.000000   \n",
      "max    173.000000  6403.000000  393735.000000  4212.000000  173809.000000   \n",
      "\n",
      "               women  sharewomen       employed      full_time      part_time  \\\n",
      "count     173.000000  173.000000     173.000000     173.000000     173.000000   \n",
      "mean    22530.358382    0.522550   31192.763006   26029.306358    8832.398844   \n",
      "std     40966.381219    0.230572   50675.002241   42869.655092   14648.179473   \n",
      "min         0.000000    0.000000       0.000000     111.000000       0.000000   \n",
      "25%      1784.000000    0.339671    3608.000000    3154.000000    1030.000000   \n",
      "50%      8284.000000    0.535714   11797.000000   10048.000000    3299.000000   \n",
      "75%     22456.000000    0.702020   31433.000000   25147.000000    9948.000000   \n",
      "max    307087.000000    0.968954  307933.000000  251540.000000  115172.000000   \n",
      "\n",
      "       full_time_year_round    unemployed  unemployment_rate   college_jobs  \\\n",
      "count            173.000000    173.000000         172.000000     173.000000   \n",
      "mean           19694.427746   2416.329480           0.068587   12322.635838   \n",
      "std            33160.941514   4112.803148           0.029967   21299.868863   \n",
      "min              111.000000      0.000000           0.000000       0.000000   \n",
      "25%             2453.000000    304.000000           0.050723    1675.000000   \n",
      "50%             7413.000000    893.000000           0.068272    4390.000000   \n",
      "75%            16891.000000   2393.000000           0.087599   14444.000000   \n",
      "max           199897.000000  28169.000000           0.177226  151643.000000   \n",
      "\n",
      "       non_college_jobs  low_wage_jobs  \n",
      "count        173.000000     173.000000  \n",
      "mean       13284.497110    3859.017341  \n",
      "std        23789.655363    6944.998579  \n",
      "min            0.000000       0.000000  \n",
      "25%         1591.000000     340.000000  \n",
      "50%         4595.000000    1231.000000  \n",
      "75%        11783.000000    3466.000000  \n",
      "max       148395.000000   48207.000000  \n",
      "     rank  major_code  total  sample_size    men  women  sharewomen  employed  \\\n",
      "0       1        2419   2339           36   2057    282    0.120564      1976   \n",
      "1       2        2416    756            7    679     77    0.101852       640   \n",
      "2       3        2415    856            3    725    131    0.153037       648   \n",
      "3       4        2417   1258           16   1123    135    0.107313       758   \n",
      "4       5        2405  32260          289  21239  11021    0.341631     25694   \n",
      "..    ...         ...    ...          ...    ...    ...         ...       ...   \n",
      "168   169        3609   8409           47   3050   5359    0.637293      6259   \n",
      "169   170        5201   2854            7    522   2332    0.817099      2125   \n",
      "170   171        5202   2838           13    568   2270    0.799859      2101   \n",
      "171   172        5203   4626           21    931   3695    0.798746      3777   \n",
      "172   173        3501   1098            2    134    964    0.877960       742   \n",
      "\n",
      "     full_time  part_time  full_time_year_round  unemployed  \\\n",
      "0         1849        270                  1207          37   \n",
      "1          556        170                   388          85   \n",
      "2          558        133                   340          16   \n",
      "3         1069        150                   692          40   \n",
      "4        23170       5180                 16697        1672   \n",
      "..         ...        ...                   ...         ...   \n",
      "168       5043       2190                  3602         304   \n",
      "169       1848        572                  1211         148   \n",
      "170       1724        648                  1293         368   \n",
      "171       3154        965                  2738         214   \n",
      "172        593        237                   410          87   \n",
      "\n",
      "     unemployment_rate  college_jobs  non_college_jobs  low_wage_jobs  \n",
      "0             0.018381          1534               364            193  \n",
      "1             0.117241           350               257             50  \n",
      "2             0.024096           456               176              0  \n",
      "3             0.050125           529               102              0  \n",
      "4             0.061098         18314              4440            972  \n",
      "..                 ...           ...               ...            ...  \n",
      "168           0.046320          2771              2947            743  \n",
      "169           0.065112          1488               615             82  \n",
      "170           0.149048           986               870            622  \n",
      "171           0.053621          2403              1245            308  \n",
      "172           0.104946           288               338            192  \n",
      "\n",
      "[173 rows x 16 columns]\n"
     ]
    }
   ],
   "source": [
    "# Print .dtypes\n",
    "print(recent_grads.dtypes)\n",
    "\n",
    "# Output summary statistics\n",
    "print(recent_grads.describe())\n",
    "\n",
    "# Exclude data of type object\n",
    "print(recent_grads.select_dtypes(exclude='object'))"
   ]
  },
  {
   "cell_type": "markdown",
   "metadata": {},
   "source": [
    "## Exercise 3: Replacing Missing Values\n",
    "\n",
    "There are some missing values in the dataset that are coded as a string. You'll update these to a value that Python understands as \"missing.\"\n",
    "\n",
    "The list `columns` contains the names of the columns you'll be working with in this exercise.\n",
    "### Instructions\n",
    "\n",
    "- Look at the `dtypes` of the columns in `columns` to make sure that the data is numeric.\n",
    "- It looks like a string is being used to encode missing values. Use the `.unique()` method to figure out what the string is.\n",
    "- Search for missing values in the median, p25th, and p75th columns.\n",
    "- Replace the found missing values with a `NaN` value, using `numpy`'s `np.nan`."
   ]
  },
  {
   "cell_type": "code",
   "execution_count": 33,
   "metadata": {},
   "outputs": [
    {
     "name": "stdout",
     "output_type": "stream",
     "text": [
      "object\n",
      "object\n",
      "object\n",
      "['110000' '75000' '73000' '70000' '65000' 'UN' '62000' '60000' '58000'\n",
      " '57100' '57000' '56000' '54000' '53000' '52000' '51000' '50000' '48000'\n",
      " '47000' '46000' '45000' '44700' '44000' '42000' '41300' '41000' '40100'\n",
      " '40000' '39000' '38400' '38000' '37500' '37400' '37000' '36400' '36200'\n",
      " '36000' '35600' '35000' '34000' '33500' '33400' '33000' '32500' '32400'\n",
      " '32200' '32100' '32000' '31500' '31000' '30500' '30000' '29000' '28000'\n",
      " '27500' '27000' '26000' '25000' '23400' '22000']\n",
      "['95000' '55000' '50000' '43000' 'UN' '31500' '48000' '45000' '42000'\n",
      " '36000' '39000' '25000' '40000' '37900' '38000' '32000' '35000' '42800'\n",
      " '33000' '34000' '30000' '32500' '26700' '23000' '20000' '41000' '31200'\n",
      " '31000' '29000' '30400' '27000' '22500' '28000' '29600' '26000' '29200'\n",
      " '21000' '24500' '22000' '28600' '18500' '24000' '23050' '23400' '22900'\n",
      " '22300' '20800' '19200']\n",
      "['125000' '90000' '105000' '80000' '75000' '102000' 'UN' '109000' '70000'\n",
      " '72000' '65000' '74000' '76000' '67000' '69000' '54000' '60000' '62000'\n",
      " '56000' '66000' '57000' '58000' '64000' '53000' '68000' '50000' '63000'\n",
      " '45000' '78000' '46000' '43000' '55000' '47000' '51000' '52000' '42000'\n",
      " '40000' '49900' '49000' '41000' '40200' '42900' '44000' '48000' '35000'\n",
      " '38000' '47100' '39000' '37000' '38300' '36000' '42100' '34000' '26000'\n",
      " '22000']\n"
     ]
    }
   ],
   "source": [
    "import numpy as np\n",
    "# Names of the columns we're searching for missing values \n",
    "columns = ['median', 'p25th', 'p75th']\n",
    "\n",
    "# Take a look at the dtypes\n",
    "print(recent_grads['median'].dtypes)\n",
    "print(recent_grads['p25th'].dtypes)\n",
    "print(recent_grads['p75th'].dtypes)\n",
    "\n",
    "# Find how missing values are represented\n",
    "print(recent_grads['median'].unique())\n",
    "print(recent_grads['p25th'].unique())\n",
    "print(recent_grads['p75th'].unique())\n",
    "\n",
    "# Replace missing values with NaN\n",
    "for column in columns:\n",
    "    recent_grads.loc[recent_grads[column] == 'UN', column] = np.nan"
   ]
  },
  {
   "cell_type": "markdown",
   "metadata": {},
   "source": [
    "## Exercise 4: Select a Column\n",
    "\n",
    "Python's `pandas` module allows you to select a specific column from a DataFrame, which is especially useful for when you only need to manipulate one piece of data. In this exercise, you'll select the `sharewomen` column, which shows the percentage of women for a given department.\n",
    "\n",
    "The DataFrame `recent_grads` is still in your workspace.\n",
    "### Instructions\n",
    "\n",
    "- Select the `sharewomen` column from `recent_grads` and assign this to a variable named `sw_col`.\n",
    "- Output the first 5 rows of `sw_col`.\n"
   ]
  },
  {
   "cell_type": "code",
   "execution_count": 34,
   "metadata": {},
   "outputs": [
    {
     "name": "stdout",
     "output_type": "stream",
     "text": [
      "0    0.120564\n",
      "1    0.101852\n",
      "2    0.153037\n",
      "3    0.107313\n",
      "4    0.341631\n",
      "Name: sharewomen, dtype: float64\n"
     ]
    }
   ],
   "source": [
    "# Select sharewomen column\n",
    "sw_col = recent_grads['sharewomen']\n",
    "\n",
    "# Output first five rows\n",
    "print(sw_col.head(5))"
   ]
  },
  {
   "cell_type": "markdown",
   "metadata": {},
   "source": [
    "## Exercise 5: Column Maximum Value\n",
    "\n",
    "Now that you've selected the `sharewomen` column, you'll use `numpy` to output its maximum value.\n",
    "\n",
    "The variable `sw_col` you created in the last exercise is still available in your workspace.\n",
    "### Instructions\n",
    "\n",
    "- Import `numpy` as `np`.\n",
    "- Using a `numpy` built-in function, find the maximum value of the `sharewomen` column and assign this value to the variable `max_sw`.\n",
    "- Print the value of `max_sw`\n"
   ]
  },
  {
   "cell_type": "code",
   "execution_count": 35,
   "metadata": {},
   "outputs": [
    {
     "name": "stdout",
     "output_type": "stream",
     "text": [
      "0.968953683\n"
     ]
    }
   ],
   "source": [
    "# Import numpy\n",
    "import numpy as np\n",
    "\n",
    "# Use max to output maximum values\n",
    "max_sw = sw_col.max()\n",
    "\n",
    "# Print column max\n",
    "print(max_sw)"
   ]
  },
  {
   "cell_type": "markdown",
   "metadata": {},
   "source": [
    "## Exercise: Selecting a Row\n",
    "\n",
    "While you know what the maximum percentage of women in a department is, which department is this? You'll output this information by filtering the dataset with `pandas`.\n",
    "\n",
    "The variables `sw_col` and `max_sw` are still in your workspace.\n",
    "### Instructions\n",
    "\n",
    "- Output the row of data for the department that has the largest percentage of women.\n"
   ]
  },
  {
   "cell_type": "code",
   "execution_count": 36,
   "metadata": {},
   "outputs": [
    {
     "name": "stdout",
     "output_type": "stream",
     "text": [
      "     rank  major_code                        major             major_category  \\\n",
      "162   163        5502  ANTHROPOLOGY AND ARCHEOLOGY  Humanities & Liberal Arts   \n",
      "\n",
      "     total  sample_size   men  women  sharewomen  employed  ...  part_time  \\\n",
      "162  38844          247  1167  36422    0.968954     29633  ...      14515   \n",
      "\n",
      "     full_time_year_round  unemployed  unemployment_rate  median  p25th  \\\n",
      "162                 13232        3395           0.102792   28000  20000   \n",
      "\n",
      "     p75th college_jobs  non_college_jobs  low_wage_jobs  \n",
      "162  38000         9805             16693           6866  \n",
      "\n",
      "[1 rows x 21 columns]\n"
     ]
    }
   ],
   "source": [
    "# Output the row containing the maximum percentage of women\n",
    "print(recent_grads.loc[recent_grads['sharewomen'] == max_sw])"
   ]
  },
  {
   "cell_type": "markdown",
   "metadata": {},
   "source": [
    "## Exercise 6: Converting a DataFrame to Numpy Array\n",
    "\n",
    "Since `numpy` is such a powerful Python module, this exercise asks you to convert a `pandas` DataFrame to a `numpy` array to then utilize a statistics metric available through `numpy` in the next exercise.\n",
    "### Instructions\n",
    "\n",
    "- Select the columns `unemployed` and `low_wage_jobs` from `recent_grads`, then convert them to a `numpy` array. Save this as `recent_grads_np`.\n",
    "- Print the type of `recent_grads_np` to see that it is a `numpy` array.\n"
   ]
  },
  {
   "cell_type": "code",
   "execution_count": 37,
   "metadata": {},
   "outputs": [
    {
     "name": "stdout",
     "output_type": "stream",
     "text": [
      "[[   37   193]\n",
      " [   85    50]\n",
      " [   16     0]\n",
      " [   40     0]\n",
      " [ 1672   972]\n",
      " [  400   244]\n",
      " [  308   259]\n",
      " [   33   220]\n",
      " [ 4650  3253]\n",
      " [ 3895  3170]\n",
      " [ 2275   980]\n",
      " [  794   372]\n",
      " [ 1019   789]\n",
      " [   78    81]\n",
      " [   23   263]\n",
      " [  589   524]\n",
      " [  699   640]\n",
      " [ 2859  3192]\n",
      " [  170   137]\n",
      " [   11   144]\n",
      " [ 6884  5144]\n",
      " [  338   485]\n",
      " [  824   696]\n",
      " [   70    70]\n",
      " [ 1015   708]\n",
      " [ 3270  2899]\n",
      " [ 1042   703]\n",
      " [  504   285]\n",
      " [  597   365]\n",
      " [  670   340]\n",
      " [  308   260]\n",
      " [  163   142]\n",
      " [  286   755]\n",
      " [   49    49]\n",
      " [ 8497  6193]\n",
      " [ 9413  9910]\n",
      " [11452 10653]\n",
      " [ 1165  1284]\n",
      " [  129   480]\n",
      " [  137   124]\n",
      " [12411 10886]\n",
      " [ 2884  4569]\n",
      " [ 2934  1672]\n",
      " [ 1282  1823]\n",
      " [  505  1002]\n",
      " [  639   608]\n",
      " [  401   343]\n",
      " [  385   357]\n",
      " [  107    93]\n",
      " [   99   186]\n",
      " [   74   245]\n",
      " [  407  1270]\n",
      " [    0    25]\n",
      " [  419   263]\n",
      " [  223   135]\n",
      " [   88     0]\n",
      " [ 2271  2499]\n",
      " [14946 27320]\n",
      " [ 4366  4221]\n",
      " [ 2092  3046]\n",
      " [  977  1121]\n",
      " [ 1067  1168]\n",
      " [ 1150  1758]\n",
      " [  649  1362]\n",
      " [  178   839]\n",
      " [  416   386]\n",
      " [  250   406]\n",
      " [   87   201]\n",
      " [  215   573]\n",
      " [  138   302]\n",
      " [  286   272]\n",
      " [  182    94]\n",
      " [   42   269]\n",
      " [    0     0]\n",
      " [ 2769  4288]\n",
      " [   64    81]\n",
      " [21502 32395]\n",
      " [11663 27968]\n",
      " [15022 19803]\n",
      " [ 1799  1905]\n",
      " [  693  1246]\n",
      " [  721   308]\n",
      " [ 2249  3012]\n",
      " [    0    56]\n",
      " [ 1100   352]\n",
      " [  677   959]\n",
      " [ 1315  1906]\n",
      " [  757  1336]\n",
      " [  893  1422]\n",
      " [  789   496]\n",
      " [   36   221]\n",
      " [   33    37]\n",
      " [ 1779  3175]\n",
      " [14602 27440]\n",
      " [11268 18404]\n",
      " [ 8947 14839]\n",
      " [ 4535  8512]\n",
      " [ 2727  5751]\n",
      " [ 3305  7214]\n",
      " [ 1668  3677]\n",
      " [ 1067  1179]\n",
      " [ 1088  2237]\n",
      " [ 1743  1895]\n",
      " [  975  2449]\n",
      " [ 1518  1391]\n",
      " [ 2006  2495]\n",
      " [  962   557]\n",
      " [  842  1405]\n",
      " [  463   902]\n",
      " [  749  1061]\n",
      " [   78   237]\n",
      " [  322   327]\n",
      " [    0     0]\n",
      " [ 7195 11443]\n",
      " [11176 16839]\n",
      " [ 3132  5267]\n",
      " [ 1718  3168]\n",
      " [ 1012  1806]\n",
      " [ 1833  1854]\n",
      " [  216   786]\n",
      " [    0   111]\n",
      " [  529  1159]\n",
      " [  483   459]\n",
      " [13874 28339]\n",
      " [ 8608 13748]\n",
      " [ 4410  6429]\n",
      " [ 2409  4468]\n",
      " [ 2393  9063]\n",
      " [ 1379  2819]\n",
      " [ 1302  2085]\n",
      " [  547   657]\n",
      " [  757  1470]\n",
      " [  437   976]\n",
      " [  833  1385]\n",
      " [ 2183  3816]\n",
      " [ 4267  8051]\n",
      " [ 1206  2767]\n",
      " [14345 26503]\n",
      " [ 7297 11502]\n",
      " [ 5593 16838]\n",
      " [ 4657  9030]\n",
      " [ 3718  5862]\n",
      " [ 1108  1634]\n",
      " [  314  1231]\n",
      " [  266   591]\n",
      " [28169 48207]\n",
      " [ 3918  9286]\n",
      " [ 1920  2042]\n",
      " [ 1128  3426]\n",
      " [ 5486 11880]\n",
      " [ 3355  5248]\n",
      " [ 3329  4344]\n",
      " [  917  2125]\n",
      " [ 1465  2840]\n",
      " [  496   722]\n",
      " [  419  1650]\n",
      " [  326   724]\n",
      " [  372  1141]\n",
      " [ 1617  3304]\n",
      " [ 1368  3586]\n",
      " [  510  3163]\n",
      " [   82    31]\n",
      " [ 3395  6866]\n",
      " [ 1487  5125]\n",
      " [ 1360  2868]\n",
      " [  846  1115]\n",
      " [ 3040 11068]\n",
      " [ 1340  3466]\n",
      " [  304   743]\n",
      " [  148    82]\n",
      " [  368   622]\n",
      " [  214   308]\n",
      " [   87   192]]\n"
     ]
    }
   ],
   "source": [
    "# Convert to numpy array\n",
    "recent_grads_np = recent_grads[['unemployed', 'low_wage_jobs']].values\n",
    "\n",
    "\n",
    "# Print the type of recent_grads_np\n",
    "print(recent_grads_np)"
   ]
  },
  {
   "cell_type": "markdown",
   "metadata": {},
   "source": [
    "## Exercise 7: Correlation Coefficient\n",
    "\n",
    "You have some suspicion that there's a relationship between the `low_wage_jobs` and `unemployment_rate` columns, so you decide to use `numpy` to calculate the correlation coefficient.\n",
    "### Instructions\n",
    "\n",
    "- Calculate the correlation matrix of the `numpy` array `recent_grads_np`.\n"
   ]
  },
  {
   "cell_type": "code",
   "execution_count": 38,
   "metadata": {},
   "outputs": [
    {
     "name": "stdout",
     "output_type": "stream",
     "text": [
      "[[1.         0.95538815]\n",
      " [0.95538815 1.        ]]\n"
     ]
    }
   ],
   "source": [
    "# Calculate correlation matrix\n",
    "print(np.corrcoef(recent_grads_np[:,0], recent_grads_np[:,1]))"
   ]
  },
  {
   "cell_type": "markdown",
   "metadata": {},
   "source": [
    "# Section 2: Manipulating Data"
   ]
  },
  {
   "cell_type": "markdown",
   "metadata": {},
   "source": [
    "## Exercise 1: Creating Columns I\n",
    "\n",
    "If you look at the dataset, you'll notice that while there's a column which shows the percentage of women in each department, there is no column which shows the percentage of men.\n",
    "### Instructions\n",
    "\n",
    "- Create a new column named `sharemen`, that contains the percentage of men for a given department by dividing the number of men by the total number of students for each department.\n"
   ]
  },
  {
   "cell_type": "code",
   "execution_count": 39,
   "metadata": {},
   "outputs": [],
   "source": [
    "# Add sharemen column\n",
    "recent_grads['sharemen'] = recent_grads['men'] / recent_grads['total']"
   ]
  },
  {
   "cell_type": "markdown",
   "metadata": {},
   "source": [
    "## Exercise 2: Select Row with Highest Value\n",
    "\n",
    "Remember how you found the row of data with the highest percentage of women? Now you'll find the row that corresponds to the department with the highest rate of men.\n",
    "\n",
    "The module `numpy` has been imported under the alias `np` for you.\n",
    "### Instructions\n",
    "\n",
    "- Using numpy, find the maximum value for the percentage of men and call this variable max_men.\n",
    "- Select the row that has the percentage of men which corresponds to max_men.\n"
   ]
  },
  {
   "cell_type": "code",
   "execution_count": 40,
   "metadata": {},
   "outputs": [
    {
     "name": "stdout",
     "output_type": "stream",
     "text": [
      "     rank  major_code                                       major  \\\n",
      "120   121        2301  EDUCATIONAL ADMINISTRATION AND SUPERVISION   \n",
      "\n",
      "    major_category  total  sample_size    men  women  sharewomen  employed  \\\n",
      "120      Education    804            5  78253  63698    0.448732       703   \n",
      "\n",
      "     ...  full_time_year_round  unemployed  unemployment_rate  median  p25th  \\\n",
      "120  ...                   504           0                0.0   34000  29000   \n",
      "\n",
      "     p75th college_jobs non_college_jobs  low_wage_jobs   sharemen  \n",
      "120  35000          346              206            111  97.329602  \n",
      "\n",
      "[1 rows x 22 columns]\n"
     ]
    }
   ],
   "source": [
    "import numpy as np\n",
    "# Find the maximum percentage value of men\n",
    "max_men = np.max(recent_grads['sharemen'])\n",
    " \n",
    "# Output the row with the highest percentage of men\n",
    "print(recent_grads[recent_grads['sharemen'] == max_men])"
   ]
  },
  {
   "cell_type": "markdown",
   "metadata": {},
   "source": [
    "## Exercise 3: Creating columns II\n",
    "\n",
    "Eventually you want to figure out which departments are most balanced between men and women. To accomplish this, you'll add a new column that reports the difference in percentages between men and women.\n",
    "### Instructions\n",
    "\n",
    "- Add a column named `gender_diff` that reports how much higher the rate of women is than the rate of men.\n"
   ]
  },
  {
   "cell_type": "code",
   "execution_count": 41,
   "metadata": {},
   "outputs": [],
   "source": [
    "# Add gender_diff column\n",
    "recent_grads['gender_diff'] = recent_grads['sharewomen'] - recent_grads['sharemen']"
   ]
  },
  {
   "cell_type": "markdown",
   "metadata": {},
   "source": [
    "## Exercise 4: Updating columns\n",
    "\n",
    "Your data for the `gender_diff` column currently consists of negative and positive values, which depend on which group of people (women or men) have a higher percentage. You want to find the five departments with the most balanced gender ratios, but first you decide to make your life easier by replacing the values in the `gender_diff` column with their respective absolute values.\n",
    "### Instructions\n",
    "\n",
    "- Use `numpy` and `pandas` to convert each value in the `gender_diff` column to its absolute value.\n",
    "- Output the five departments with the most balanced gender ratios.\n"
   ]
  },
  {
   "cell_type": "code",
   "execution_count": 42,
   "metadata": {},
   "outputs": [
    {
     "name": "stdout",
     "output_type": "stream",
     "text": [
      "    rank  major_code                                   major  \\\n",
      "8      9        2414                  MECHANICAL ENGINEERING   \n",
      "74    75        5003                               CHEMISTRY   \n",
      "37    38        6205                      BUSINESS ECONOMICS   \n",
      "65    66        2599  MISCELLANEOUS ENGINEERING TECHNOLOGIES   \n",
      "78    79        5506        POLITICAL SCIENCE AND GOVERNMENT   \n",
      "\n",
      "       major_category   total  sample_size    men  women  sharewomen  \\\n",
      "8         Engineering   91227         1029  12953   2105    0.139793   \n",
      "74  Physical Sciences   66530          353  32923  33607    0.505141   \n",
      "37           Business   13302          199   3477   1154    0.249190   \n",
      "65        Engineering    8804          125    124      0    0.000000   \n",
      "78     Social Science  182621         1387  93880  88741    0.485930   \n",
      "\n",
      "    employed  ...  unemployed  unemployment_rate  median  p25th  p75th  \\\n",
      "8      76442  ...        4650           0.057342   60000  48000  70000   \n",
      "74     48535  ...        2769           0.053972   39000  30000  49900   \n",
      "37     10914  ...        1165           0.096448   46000  33000  58000   \n",
      "65      7502  ...         416           0.052539   40000  30400  56000   \n",
      "78    133454  ...       15022           0.101175   38000  28000  50000   \n",
      "\n",
      "   college_jobs non_college_jobs low_wage_jobs  sharemen  gender_diff  \n",
      "8         52844            16384          3253  0.141986     0.002194  \n",
      "74        30382            14718          4288  0.494859     0.010281  \n",
      "37         1578             4612          1284  0.261389     0.012199  \n",
      "65         2446             3896           386  0.014085     0.014085  \n",
      "78        36854            66947         19803  0.514070     0.028140  \n",
      "\n",
      "[5 rows x 23 columns]\n"
     ]
    }
   ],
   "source": [
    "# Make all gender difference values positive\n",
    "recent_grads['gender_diff'] = np.abs(recent_grads['gender_diff'])\n",
    "\n",
    "\n",
    "# Find the 5 rows with lowest gender rate difference\n",
    "print(recent_grads.nsmallest(5, 'gender_diff'))"
   ]
  },
  {
   "cell_type": "markdown",
   "metadata": {},
   "source": [
    "## Exercise 5: Filtering rows\n",
    "\n",
    "Finally you can filter out for departments which fail the benchmark of a difference of more than 0.30. Since all the values are now positive, you can do this with a simple boolean operator.\n",
    "\n",
    "You want to find the rows containing departments that are skewed heavily towards men. Using work you've already done, you'll create a new DataFrame that contains this information.\n",
    "\n",
    "The DataFrame `recent_grads` still has the columns `sharemen` and `gender_diff` that you created in previous exercises.\n",
    "### Instructions\n",
    "\n",
    "- Create `diff_30`, a boolean `Series` that is `True` when the corresponding value of `gender_diff` is greater than `0.30` and `False` otherwise.\n",
    "- Make another boolean Series called `more_men` that's true when the corresponding row in `recent_grads` has more men than women.\n",
    "- Combine your two `Series` to make one that you can use to select rows that have both more men than women and a value of `gender_diff` greater than 0.30. Save the result as `more_men_and_diff_30`.\n",
    "- Use this new boolean `Series` to create the DataFrame `fewer_women` that contains only the rows you're interested in."
   ]
  },
  {
   "cell_type": "code",
   "execution_count": 43,
   "metadata": {},
   "outputs": [],
   "source": [
    "# Rows where gender rate difference is greater than .30 \n",
    "diff_30 = recent_grads['gender_diff'] > .30\n",
    "\n",
    "# Rows with more men\n",
    "more_men = recent_grads['sharemen'] > recent_grads['sharewomen']\n",
    "\n",
    "# Combine more_men and diff_30\n",
    "more_men_and_diff_30 = np.logical_and(more_men, diff_30)\n",
    "\n",
    "# Find rows with more men and and gender rate difference greater than .30\n",
    "fewer_women = recent_grads[more_men_and_diff_30]"
   ]
  },
  {
   "cell_type": "markdown",
   "metadata": {},
   "source": [
    "## Exercise 6: Grouping with Counts\n",
    "\n",
    "There are various department categories but no sense of how many departments there are in each category. You'll use `pandas` to gain insight into this information.\n",
    "\n",
    "In particular, you'll use the `.groupby()` method of `pandas`. This was not introduced to you in the course, but you'll see it very frequently in your data science journey and it's an important method to understand. This set of exercises will extend your `pandas` knowledge by teaching you how to use the `.groupby()` method.\n",
    "\n",
    "Calls to `.groupby()` have the following three components: the column you want to group, the column you want to aggregate, and the statistic you want to aggregate by. For example, in our dataset, if we wanted to see the percentage of women (`'sharewomen'`) per `'major_category'`, we could leverage a `.groupby` like so: `recent_grads.groupby('major_category')['sharewomen'].mean()`. Here, we are grouping by `'major_category'`, and aggregating `'sharewomen'` by the mean. Give it a try in the IPython Shell if you're curious to see the result!\n",
    "### Instructions\n",
    "\n",
    "\n",
    "- Using the `.groupby()` method, group the `recent_grads` DataFrame by `'major_category'` and then count the number of departments per category using `.count()`.\n",
    "\n"
   ]
  },
  {
   "cell_type": "markdown",
   "metadata": {},
   "source": [
    "## Exercise 7: Grouping with Counts, Part 2\n",
    "\n",
    "You want to get a sense of the number of majors with a lot less women, so you'll perform a similar operation as the one from the last exercise.\n",
    "\n",
    "Use the `fewer_women` DataFrame from a previous exercise.\n",
    "### Instructions\n",
    "\n",
    "- Create a DataFrame that groups the departments by major category and shows the number of departments that are skewed in women.\n",
    "\n"
   ]
  },
  {
   "cell_type": "code",
   "execution_count": 44,
   "metadata": {},
   "outputs": [
    {
     "name": "stdout",
     "output_type": "stream",
     "text": [
      "major_category\n",
      "Agriculture & Natural Resources        10\n",
      "Arts                                    8\n",
      "Biology & Life Science                 14\n",
      "Business                               13\n",
      "Communications & Journalism             4\n",
      "Computers & Mathematics                11\n",
      "Education                              16\n",
      "Engineering                            29\n",
      "Health                                 12\n",
      "Humanities & Liberal Arts              15\n",
      "Industrial Arts & Consumer Services     7\n",
      "Interdisciplinary                       1\n",
      "Law & Public Policy                     5\n",
      "Physical Sciences                      10\n",
      "Psychology & Social Work                9\n",
      "Social Science                          9\n",
      "Name: major_category, dtype: int64\n"
     ]
    }
   ],
   "source": [
    "# Group by major category and count\n",
    "print(recent_grads.groupby(['major_category']).major_category.count())"
   ]
  },
  {
   "cell_type": "code",
   "execution_count": 45,
   "metadata": {},
   "outputs": [
    {
     "name": "stdout",
     "output_type": "stream",
     "text": [
      "major_category\n",
      "Agriculture & Natural Resources         6\n",
      "Biology & Life Science                  4\n",
      "Business                                1\n",
      "Computers & Mathematics                 5\n",
      "Education                               5\n",
      "Engineering                            20\n",
      "Health                                  1\n",
      "Humanities & Liberal Arts               1\n",
      "Industrial Arts & Consumer Services     3\n",
      "Interdisciplinary                       1\n",
      "Law & Public Policy                     1\n",
      "Physical Sciences                       6\n",
      "Psychology & Social Work                2\n",
      "Social Science                          4\n",
      "Name: major_category, dtype: int64\n"
     ]
    }
   ],
   "source": [
    "# Group departments that have less women by category and count\n",
    "print(fewer_women.groupby(['major_category']).major_category.count())"
   ]
  },
  {
   "cell_type": "markdown",
   "metadata": {},
   "source": [
    "## Exercise 8: Grouping One Column with Means\n",
    "\n",
    "Similar to the exercise you just completed, you can group rows to output the means of different groups within a column.\n",
    "\n",
    "The column `gender_diff` is still available in the `recent_grads` DataFrame.\n",
    "### Instructions\n",
    "\n",
    "- Write code that outputs the average gender percentage difference by major category.\n"
   ]
  },
  {
   "cell_type": "code",
   "execution_count": 46,
   "metadata": {},
   "outputs": [
    {
     "name": "stdout",
     "output_type": "stream",
     "text": [
      "major_category\n",
      "Agriculture & Natural Resources        4.511111\n",
      "Arts                                   0.308747\n",
      "Biology & Life Science                 4.785277\n",
      "Business                               0.318304\n",
      "Communications & Journalism            0.483868\n",
      "Computers & Mathematics                0.700728\n",
      "Education                              6.869082\n",
      "Engineering                            1.296387\n",
      "Health                                 0.450257\n",
      "Humanities & Liberal Arts              0.540437\n",
      "Industrial Arts & Consumer Services    2.474325\n",
      "Interdisciplinary                      0.320397\n",
      "Law & Public Policy                    0.281993\n",
      "Physical Sciences                      1.556373\n",
      "Psychology & Social Work               5.719239\n",
      "Social Science                         1.695479\n",
      "Name: gender_diff, dtype: float64\n"
     ]
    }
   ],
   "source": [
    "# Report average gender difference by major category\n",
    "print(recent_grads.groupby(['major_category']).gender_diff.mean())"
   ]
  },
  {
   "cell_type": "markdown",
   "metadata": {},
   "source": [
    "## Exercise 9: Grouping Two Columns with Means\n",
    "\n",
    "You can expand the previous operation to include two columns and output the means for each. To accomplish this, modify the code you just wrote.\n",
    "Instructions\n",
    "\n",
    "- Write a query that outputs the mean number of `'low_wage_jobs'` and average `'unemployment_rate'` grouped by `'major_category'`.\n"
   ]
  },
  {
   "cell_type": "code",
   "execution_count": 47,
   "metadata": {},
   "outputs": [
    {
     "name": "stdout",
     "output_type": "stream",
     "text": [
      "                                     low_wage_jobs  unemployment_rate\n",
      "major_category                                                       \n",
      "Agriculture & Natural Resources         789.900000           0.056328\n",
      "Arts                                   7514.500000           0.090173\n",
      "Biology & Life Science                 3053.000000           0.060918\n",
      "Business                               9752.923077           0.071064\n",
      "Communications & Journalism           12398.750000           0.075538\n",
      "Computers & Mathematics                1466.909091           0.084256\n",
      "Education                              2554.375000           0.051702\n",
      "Engineering                             864.793103           0.063334\n",
      "Health                                 2605.833333           0.065920\n",
      "Humanities & Liberal Arts              6282.666667           0.081008\n",
      "Industrial Arts & Consumer Services    3798.571429           0.056083\n",
      "Interdisciplinary                      1061.000000           0.070861\n",
      "Law & Public Policy                    4144.000000           0.090805\n",
      "Physical Sciences                      1407.800000           0.046511\n",
      "Psychology & Social Work               6249.555556           0.072065\n",
      "Social Science                         6020.000000           0.095729\n"
     ]
    },
    {
     "name": "stderr",
     "output_type": "stream",
     "text": [
      "/var/folders/k7/fh5thbr94kqb11_mc6v7763c0000gn/T/ipykernel_99032/4254180986.py:2: FutureWarning: Indexing with multiple keys (implicitly converted to a tuple of keys) will be deprecated, use a list instead.\n",
      "  dept_stats = recent_grads.groupby(['major_category'])['low_wage_jobs', 'unemployment_rate'].mean()\n"
     ]
    }
   ],
   "source": [
    "# Find average number of low wage jobs and unemployment rate of each major category\n",
    "dept_stats = recent_grads.groupby(['major_category'])['low_wage_jobs', 'unemployment_rate'].mean()\n",
    "print(dept_stats)"
   ]
  },
  {
   "cell_type": "markdown",
   "metadata": {},
   "source": [
    "# Section 3: Visualizing Data"
   ]
  },
  {
   "cell_type": "markdown",
   "metadata": {},
   "source": [
    "## Exercise 1: Plotting Scatterplots\n",
    "\n",
    "Now that you've calculated the correlation coefficient between the `low_wage_jobs` and `unemployment_rate` columns, you want to create a visualization to effectively display this relationship. You'll use `matplotlib` to create a scatterplot of these two columns.\n",
    "\n",
    "The DataFrame `dept_stats` is available in your workspace again, and the columns `low_wage_jobs` and `unemployment_rate` have been extracted into variables of the same name.\n",
    "### Instructions\n",
    "\n",
    "- Import `matplotlib.pyplot` with the alias `plt`.\n",
    "- Create a scatter plot between `unemployment_rate` and `low_wage_jobs` per major category.\n",
    "- Label the x axis with `'Unemployment rate'`.\n",
    "- Label the y axis with `'Low pay jobs'`.\n",
    "\n"
   ]
  },
  {
   "cell_type": "code",
   "execution_count": 48,
   "metadata": {},
   "outputs": [
    {
     "data": {
      "image/png": "[encoded data removed]",
      "text/plain": [
       "<Figure size 640x480 with 1 Axes>"
      ]
     },
     "metadata": {},
     "output_type": "display_data"
    }
   ],
   "source": [
    "low_wage_jobs = recent_grads['low_wage_jobs']\n",
    "unemployment_rate = recent_grads['unemployment_rate']\n",
    "# Import matplotlib\n",
    "import matplotlib.pyplot as plt\n",
    "\n",
    "# Create scatter plot\n",
    "plt.scatter(unemployment_rate, low_wage_jobs)\n",
    "\n",
    "# Label x axis\n",
    "plt.xlabel('Unemployment rate')\n",
    "\n",
    "# Label y axis\n",
    "plt.ylabel('Low pay jobs')\n",
    "\n",
    "# Display the graph \n",
    "plt.show()"
   ]
  },
  {
   "cell_type": "markdown",
   "metadata": {},
   "source": [
    "# Exercise 2: Modifying Plot Colors\n",
    "\n",
    "The default settings for `matplotlib` may not be what you hope to present to others, so you decide to customize your plot for low wages versus unemployment rate.\n",
    "\n",
    "Use the `pandas` DataFrame `dept_stats` again.\n",
    "### Instructions\n",
    "\n",
    "- Create the scatterplot visualization between the unemployment rate and number of low wage jobs per major category using the `.plot()` method.\n",
    "- Customize this scatterplot so that the points are red triangles by setting the `color` argument to `\"r\"` and the marker argument `^`.\n",
    "- Display the plot you've created!\n",
    "\n"
   ]
  },
  {
   "cell_type": "code",
   "execution_count": 49,
   "metadata": {},
   "outputs": [
    {
     "data": {
      "image/png": "[encoded data removed]",
      "text/plain": [
       "<Figure size 640x480 with 1 Axes>"
      ]
     },
     "metadata": {},
     "output_type": "display_data"
    }
   ],
   "source": [
    "# Plot the red and triangle shaped scatter plot  \n",
    "plt.scatter(unemployment_rate, low_wage_jobs, color = \"r\", marker = \"^\")\n",
    "\n",
    "# Display the visualization\n",
    "plt.show()"
   ]
  },
  {
   "cell_type": "markdown",
   "metadata": {},
   "source": [
    "## Exercise 3: Plotting Histograms\n",
    "\n",
    "Now that you've taken a look at that scatterplot, you want to go back to the `sharewomen` column that you were working with earlier. Specifically, you want to get an idea of how the values of `sharewomen` are distributed. This means you want to plot a histogram. For your convenience, the `sharewomen` column has been extracted from the recent_grads DataFrame into a variable called `sharewomen`.\n",
    "\n",
    "### Instructions\n",
    "\n",
    "- Use `matplotlib` to create a histogram of `sharewomen`.\n",
    "- Show the plot you created.\n"
   ]
  },
  {
   "cell_type": "code",
   "execution_count": 50,
   "metadata": {},
   "outputs": [
    {
     "data": {
      "image/png": "[encoded data removed]",
      "text/plain": [
       "<Figure size 640x480 with 1 Axes>"
      ]
     },
     "metadata": {},
     "output_type": "display_data"
    }
   ],
   "source": [
    "sharewomen = recent_grads['sharewomen']\n",
    "# Plot a histogram of sharewomen\n",
    "plt.hist(sharewomen)\n",
    "\n",
    "# Show the plot\n",
    "plt.show()"
   ]
  },
  {
   "cell_type": "markdown",
   "metadata": {},
   "source": [
    "## Exercise 4: Plotting with pandas\n",
    "\n",
    "In Python, there are several different ways to create visualizations. In fact, `pandas` has its own visualization capabilities, all of which are built on top of `matplotlib`! For example, you could have created the histogram from the previous exercise using `recent_grads.sharewomen(kind=\"hist\")` instead of `plt.hist(recent_grads.sharewomen)`.\n",
    "\n",
    "Which approach you prefer comes down to personal preference - when working with DataFrames, it is advantageous to use `pandas`' plotting capabilities because the code tends to be less verbose.\n",
    "\n",
    "Here, you will practice creating the plots from the previous exercises using `pandas` instead of `matplotlib`. All `pandas` plots are created using the `.plot()` method on a DataFrame. Inside `.plot()`, you can specify which plot you want to create using the `kind` parameter. For example, `kind= 'hist'` would create a histogram, `kind='scatter'` would create a scatter plot, and so on.\n",
    "### Instructions\n",
    "- Use the `.plot()` method with `kind='scatter'` on the `dept_stats` DataFrame to create a scatter plot with `'unemployment_rate'` on the x-axis and `'low_wage_jobs'` on the y-axis.\n",
    "\n",
    "- Now, create a histogram of the `sharewomen` column of the `recent_grads` DataFrame. "
   ]
  },
  {
   "cell_type": "code",
   "execution_count": 51,
   "metadata": {},
   "outputs": [
    {
     "data": {
      "image/png": "[encoded data removed]",
      "text/plain": [
       "<Figure size 640x480 with 1 Axes>"
      ]
     },
     "metadata": {},
     "output_type": "display_data"
    },
    {
     "data": {
      "image/png": "[encoded data removed]",
      "text/plain": [
       "<Figure size 640x480 with 1 Axes>"
      ]
     },
     "metadata": {},
     "output_type": "display_data"
    }
   ],
   "source": [
    "# Import matplotlib and pandas\n",
    "import matplotlib.pyplot as plt\n",
    "import pandas as pd\n",
    "\n",
    "# Create scatter plot\n",
    "dept_stats.plot(kind='scatter', x='unemployment_rate', y='low_wage_jobs')\n",
    "plt.show()\n",
    "\n",
    "# Create histogram\n",
    "recent_grads.sharewomen.plot(kind='hist')\n",
    "plt.show()"
   ]
  },
  {
   "cell_type": "markdown",
   "metadata": {},
   "source": [
    "## Congratulations\n",
    "\n",
    "You did it! You have successfully completed the exercises. \n",
    "\n",
    "Save your work by pressing `Ctrl + s` and head over to the next video in the course.\n",
    "\n",
    "Don't forget to Turn Off the Lab. Remember - Don't shut down the machine, but click on the x icon on top right to close the lab session."
   ]
  }
 ],
 "metadata": {
  "kernelspec": {
   "display_name": "Python 3",
   "language": "python",
   "name": "python3"
  },
  "language_info": {
   "codemirror_mode": {
    "name": "ipython",
    "version": 3
   },
   "file_extension": ".py",
   "mimetype": "text/x-python",
   "name": "python",
   "nbconvert_exporter": "python",
   "pygments_lexer": "ipython3",
   "version": "3.11.1"
  },
  "orig_nbformat": 2,
  "vscode": {
   "interpreter": {
    "hash": "aee8b7b246df8f9039afb4144a1f6fd8d2ca17a180786b69acc140d282b71a49"
   }
  }
 },
 "nbformat": 4,
 "nbformat_minor": 2
}
